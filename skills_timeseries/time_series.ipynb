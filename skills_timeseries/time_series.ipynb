{
 "cells": [
  {
   "cell_type": "code",
   "execution_count": 1,
   "metadata": {
    "collapsed": true
   },
   "outputs": [],
   "source": [
    "import numpy as np\n",
    "import pandas as pd\n",
    "import matplotlib.pyplot as plt\n",
    "import networkx as nx\n",
    "%matplotlib inline\n",
    "\n",
    "import json"
   ]
  },
  {
   "cell_type": "code",
   "execution_count": 2,
   "metadata": {
    "collapsed": true,
    "scrolled": true
   },
   "outputs": [],
   "source": [
    "data = []\n",
    "with open('skills.json') as f:\n",
    "    for line in f:\n",
    "        data.append(json.loads(line))"
   ]
  },
  {
   "cell_type": "code",
   "execution_count": 3,
   "metadata": {},
   "outputs": [
    {
     "data": {
      "text/plain": [
       "11629"
      ]
     },
     "execution_count": 3,
     "metadata": {},
     "output_type": "execute_result"
    }
   ],
   "source": [
    "len(data)"
   ]
  },
  {
   "cell_type": "code",
   "execution_count": 4,
   "metadata": {},
   "outputs": [
    {
     "data": {
      "text/plain": [
       "{'id': '20950ab0-560d-3822-8666-d449aea1c28b',\n",
       " 'skills': [{'src': {'at': 1475105660000, 'name': 'WEB', 'url': 'v2'},\n",
       "   'val': 'Management'},\n",
       "  {'src': {'at': 1475105660000, 'name': 'WEB', 'url': 'v2'},\n",
       "   'val': 'Staff Development'},\n",
       "  {'src': {'at': 1524956221000, 'name': 'web', 'url': 'v3'},\n",
       "   'val': 'Management'},\n",
       "  {'src': {'at': 1524956221000, 'name': 'web', 'url': 'v3'},\n",
       "   'val': 'Staff Development'},\n",
       "  {'src': {'at': 1526941719000, 'name': 'web', 'url': 'v4'},\n",
       "   'val': 'Management'},\n",
       "  {'src': {'at': 1526941719000, 'name': 'web', 'url': 'v4'},\n",
       "   'val': 'Staff Development'},\n",
       "  {'src': {'at': 1526941719000, 'name': 'web', 'url': 'v4'},\n",
       "   'val': 'Management'},\n",
       "  {'src': {'at': 1526941719000, 'name': 'web', 'url': 'v4'},\n",
       "   'val': 'Staff Development'}],\n",
       " 'ver': [2, 3, 4, 5]}"
      ]
     },
     "execution_count": 4,
     "metadata": {},
     "output_type": "execute_result"
    }
   ],
   "source": [
    "data[3]"
   ]
  },
  {
   "cell_type": "code",
   "execution_count": 5,
   "metadata": {
    "collapsed": true
   },
   "outputs": [],
   "source": [
    "# dict mapping each user to the skills it has at each particular time stamp\n",
    "user_skills = {} # str -> int -> str\n",
    "for user in data:\n",
    "    curr_user_skills = {}\n",
    "    curr_skills = set()\n",
    "    curr_time = user['skills'][0]['src']['at']\n",
    "    for s in user['skills']:\n",
    "        time_stamp = s['src']['at']\n",
    "        if time_stamp != curr_time:\n",
    "            curr_user_skills[curr_time] = curr_skills\n",
    "            curr_skills = set()\n",
    "            curr_time = time_stamp\n",
    "        curr_skills.add(s['val'])\n",
    "    curr_user_skills[curr_time] = list(curr_skills)\n",
    "    user_skills[user['id']] = curr_user_skills"
   ]
  },
  {
   "cell_type": "code",
   "execution_count": 6,
   "metadata": {},
   "outputs": [
    {
     "name": "stdout",
     "output_type": "stream",
     "text": [
      "4540\n"
     ]
    }
   ],
   "source": [
    "counter = 0\n",
    "for user in user_skills:\n",
    "    if len(user_skills[user]) > 1:\n",
    "        counter += 1\n",
    "print(counter)"
   ]
  },
  {
   "cell_type": "code",
   "execution_count": 7,
   "metadata": {},
   "outputs": [
    {
     "data": {
      "text/plain": [
       "{1475105660000: {'Management', 'Staff Development'},\n",
       " 1524956221000: {'Management', 'Staff Development'},\n",
       " 1526941719000: ['Staff Development', 'Management']}"
      ]
     },
     "execution_count": 7,
     "metadata": {},
     "output_type": "execute_result"
    }
   ],
   "source": [
    "user_skills['20950ab0-560d-3822-8666-d449aea1c28b']"
   ]
  },
  {
   "cell_type": "code",
   "execution_count": 40,
   "metadata": {},
   "outputs": [],
   "source": [
    "# dict mapping skill with directed edge to all other skills of weight based on # changes made\n",
    "skills_added = {}\n",
    "skills_deleted = {}\n",
    "skills_changes = {} # str -> str -> int\n",
    "count = 0\n",
    "for user_id, skills in user_skills.items():\n",
    "    ids = list(skills.keys())\n",
    "    for s in skills[ids[0]]:\n",
    "        if s not in skills_changes:\n",
    "            skills_changes[s] = {}\n",
    "            skills_added[s] = {}\n",
    "            skills_deleted[s] = {}\n",
    "    for i in range(1, len(ids)):\n",
    "        curr = ids[i]\n",
    "        prev = ids[i-1]\n",
    "        for s in skills[curr]:\n",
    "            if s not in skills_changes:\n",
    "                skills_added[s] = {}\n",
    "                skills_deleted[s] = {}\n",
    "                skills_changes[s] = {}\n",
    "            # skill added between prev and curr\n",
    "            if s not in skills[prev]:\n",
    "                for temp in skills[prev]:\n",
    "                    if s in skills_changes[temp]:\n",
    "                        skills_changes[temp][s] += 1\n",
    "                    else:\n",
    "                        skills_changes[temp][s] = 1\n",
    "                    if s in skills_added[temp]:\n",
    "                        skills_added[temp][s] += 1\n",
    "                    else:\n",
    "                        skills_added[temp][s] = 1\n",
    "        for s in skills[prev]:\n",
    "            # skill deleted between prev and curr\n",
    "            if s not in skills[curr]:\n",
    "                for temp in skills[prev]:\n",
    "                    if temp == s:\n",
    "                        continue\n",
    "                    if s in skills_changes[temp]:\n",
    "                        skills_changes[temp][s] -= 1\n",
    "                    else:\n",
    "                        skills_changes[temp][s] = -1\n",
    "                    if s in skills_deleted[temp]:\n",
    "                        skills_deleted[temp][s] -= 1\n",
    "                    else:\n",
    "                        skills_deleted[temp][s] = -1\n",
    "    "
   ]
  },
  {
   "cell_type": "code",
   "execution_count": 41,
   "metadata": {},
   "outputs": [
    {
     "name": "stdout",
     "output_type": "stream",
     "text": [
      "22862\n",
      "22862\n",
      "22862\n"
     ]
    }
   ],
   "source": [
    "print(len(skills_changes))\n",
    "print(len(skills_added))\n",
    "print(len(skills_deleted))"
   ]
  },
  {
   "cell_type": "code",
   "execution_count": 42,
   "metadata": {},
   "outputs": [
    {
     "data": {
      "text/plain": [
       "{'Algorithms': -1,\n",
       " 'Amazon RDS': -1,\n",
       " 'Apache': -1,\n",
       " 'CSS': -1,\n",
       " 'Data Extraction': -1,\n",
       " 'Data Structures': -1,\n",
       " 'Django': 0,\n",
       " 'Git': -1,\n",
       " 'HTML': -1,\n",
       " 'Jasmine': -1,\n",
       " 'Java': -1,\n",
       " 'JavaScript': -1,\n",
       " 'Linux': 0,\n",
       " 'Maven': -1,\n",
       " 'MySQL': 0,\n",
       " 'Nginx': -1,\n",
       " 'Node.js': -1,\n",
       " 'Python': 0,\n",
       " 'React': 0,\n",
       " 'Scikit-Learn': -1}"
      ]
     },
     "execution_count": 42,
     "metadata": {},
     "output_type": "execute_result"
    }
   ],
   "source": [
    "skills_changes['Tensorflow']"
   ]
  },
  {
   "cell_type": "code",
   "execution_count": 43,
   "metadata": {},
   "outputs": [
    {
     "data": {
      "text/plain": [
       "{'Django': 1, 'Linux': 1, 'MySQL': 1, 'Python': 1, 'React': 1}"
      ]
     },
     "execution_count": 43,
     "metadata": {},
     "output_type": "execute_result"
    }
   ],
   "source": [
    "skills_added['Tensorflow']"
   ]
  },
  {
   "cell_type": "code",
   "execution_count": 44,
   "metadata": {},
   "outputs": [
    {
     "data": {
      "text/plain": [
       "{'Algorithms': -1,\n",
       " 'Amazon RDS': -1,\n",
       " 'Apache': -1,\n",
       " 'CSS': -1,\n",
       " 'Data Extraction': -1,\n",
       " 'Data Structures': -1,\n",
       " 'Django': -1,\n",
       " 'Git': -1,\n",
       " 'HTML': -1,\n",
       " 'Jasmine': -1,\n",
       " 'Java': -1,\n",
       " 'JavaScript': -1,\n",
       " 'Linux': -1,\n",
       " 'Maven': -1,\n",
       " 'MySQL': -1,\n",
       " 'Nginx': -1,\n",
       " 'Node.js': -1,\n",
       " 'Python': -1,\n",
       " 'React': -1,\n",
       " 'Scikit-Learn': -1}"
      ]
     },
     "execution_count": 44,
     "metadata": {},
     "output_type": "execute_result"
    }
   ],
   "source": [
    "skills_deleted['Tensorflow']"
   ]
  },
  {
   "cell_type": "code",
   "execution_count": 50,
   "metadata": {
    "collapsed": true
   },
   "outputs": [],
   "source": [
    "def draw_skill_graph(skill):\n",
    "    G = nx.DiGraph()\n",
    "    for node, weight in skills_added[skill].items():\n",
    "        if weight not in [-1, 0, 1]:\n",
    "            G.add_edges_from([(skill, node)], weight=weight)\n",
    "    return G"
   ]
  },
  {
   "cell_type": "code",
   "execution_count": null,
   "metadata": {
    "collapsed": true
   },
   "outputs": [],
   "source": [
    "def draw_graph():\n",
    "    G = nx.DiGraph()\n",
    "    for skill in skills_added:\n",
    "        for node, weight in skills_deleted[skill].items():\n",
    "            if weight < -20:\n",
    "                G.add_edges_from([(skill, node)], weight=weight)\n",
    "    return G"
   ]
  },
  {
   "cell_type": "code",
   "execution_count": null,
   "metadata": {},
   "outputs": [],
   "source": [
    "G = draw_graph()\n",
    "pos = nx.spring_layout(G)\n",
    "nx.draw(G, pos, with_labels=True)\n",
    "edge_labels = nx.get_edge_attributes(G,'weight')\n",
    "nx.draw_networkx_edge_labels(G, pos, edge_labels=edge_labels)"
   ]
  },
  {
   "cell_type": "code",
   "execution_count": null,
   "metadata": {
    "collapsed": true
   },
   "outputs": [],
   "source": []
  }
 ],
 "metadata": {
  "kernelspec": {
   "display_name": "Python 3",
   "language": "python",
   "name": "python3"
  },
  "language_info": {
   "codemirror_mode": {
    "name": "ipython",
    "version": 3
   },
   "file_extension": ".py",
   "mimetype": "text/x-python",
   "name": "python",
   "nbconvert_exporter": "python",
   "pygments_lexer": "ipython3",
   "version": "3.6.1"
  }
 },
 "nbformat": 4,
 "nbformat_minor": 2
}
