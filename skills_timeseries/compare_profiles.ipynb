{
 "cells": [
  {
   "cell_type": "code",
   "execution_count": 2,
   "metadata": {
    "collapsed": true
   },
   "outputs": [],
   "source": [
    "import numpy as np\n",
    "import pandas as pd\n",
    "import pickle"
   ]
  },
  {
   "cell_type": "code",
   "execution_count": 3,
   "metadata": {
    "collapsed": true
   },
   "outputs": [],
   "source": [
    "class Profile(object):\n",
    "    def __init__(self):\n",
    "        self.attributes = {'id': None, 'gender': None, 'skillset1': None, 'skillset2': None, 'job_title': [], \n",
    "                           'job_start_end': [], 'job_length': [], 'company': [], 'education': [], 'education_level': [], 'elite': []}\n",
    "\n",
    "    def check_valid_profile(self):\n",
    "        for a in self.attributes:\n",
    "            if not self.attributes[a]:\n",
    "                return False\n",
    "        return True\n",
    "\n",
    "    def update(self, entry):\n",
    "        # education record\n",
    "        if entry[26]:\n",
    "            if entry[19] and entry[27] and entry[28]:\n",
    "                self.attributes['education'].append(entry[19])\n",
    "                self.attributes['education_level'].append(entry[27])\n",
    "                self.attributes['elite'].append(entry[28])\n",
    "        # employment record\n",
    "        else:\n",
    "            if entry[2]:\n",
    "                self.attributes['gender'] = entry[2]\n",
    "            if entry[3] != -1:\n",
    "                self.attributes['skillset1'] = entry[3]\n",
    "            if entry[5] != -1:\n",
    "                self.attributes['skillset2'] = entry[5]\n",
    "            if entry[17] and entry[19]:\n",
    "                if entry[12] and entry[15]:\n",
    "                    self.attributes['job_start_end'].append((entry[11], '2019-03-01'))\n",
    "                    self.attributes['job_title'].append(entry[17])\n",
    "                    self.attributes['company'].append(entry[19])     \n",
    "                    self.attributes['job_length'].append('ongoing')\n",
    "                if entry[12] and entry[14]:\n",
    "                    self.attributes['job_start_end'].append((entry[11], entry[13]))\n",
    "                    self.attributes['job_title'].append(entry[17])\n",
    "                    self.attributes['company'].append(entry[19])\n",
    "                    self.attributes['job_length'].append(entry[16])\n",
    "        return"
   ]
  },
  {
   "cell_type": "code",
   "execution_count": 4,
   "metadata": {},
   "outputs": [],
   "source": [
    "#open processed entries\n",
    "import pickle\n",
    "with open('complete_entries.pickle', 'rb') as handle:\n",
    "    profiles = pickle.load(handle)"
   ]
  },
  {
   "cell_type": "code",
   "execution_count": 5,
   "metadata": {
    "collapsed": true
   },
   "outputs": [],
   "source": [
    "def compare_profiles(profile_1, profile_2):\n",
    "    \"\"\"\n",
    "    Takes in two profile ID's and compares them side by side in a dataframe\n",
    "    \"\"\"\n",
    "    d = {profile_1: profiles[profile_1].attributes, profile_2: profiles[profile_2].attributes}\n",
    "    df = pd.DataFrame(d)\n",
    "    return df"
   ]
  },
  {
   "cell_type": "code",
   "execution_count": 9,
   "metadata": {},
   "outputs": [],
   "source": [
    "# view the entire column without truncating\n",
    "pd.set_option('display.max_colwidth', -1)"
   ]
  },
  {
   "cell_type": "code",
   "execution_count": 10,
   "metadata": {},
   "outputs": [
    {
     "data": {
      "text/html": [
       "<div>\n",
       "<style scoped>\n",
       "    .dataframe tbody tr th:only-of-type {\n",
       "        vertical-align: middle;\n",
       "    }\n",
       "\n",
       "    .dataframe tbody tr th {\n",
       "        vertical-align: top;\n",
       "    }\n",
       "\n",
       "    .dataframe thead th {\n",
       "        text-align: right;\n",
       "    }\n",
       "</style>\n",
       "<table border=\"1\" class=\"dataframe\">\n",
       "  <thead>\n",
       "    <tr style=\"text-align: right;\">\n",
       "      <th></th>\n",
       "      <th>af64be1e-9816-3ab4-9c34-775c00cafa5e</th>\n",
       "      <th>e1545d21-8451-36a3-8c6c-e127d209c670</th>\n",
       "    </tr>\n",
       "  </thead>\n",
       "  <tbody>\n",
       "    <tr>\n",
       "      <th>company</th>\n",
       "      <td>[Residential Computing, UC Berkeley, Code the Change, LinkedIn, Bay Area Mountain Rescue Unit, Microsoft - Xbox, Facebook, Instagram]</td>\n",
       "      <td>[Amazon Lab126, Wealthfront Inc., Facebook, Instagram]</td>\n",
       "    </tr>\n",
       "    <tr>\n",
       "      <th>education</th>\n",
       "      <td>[UC Berkeley]</td>\n",
       "      <td>[UC Berkeley]</td>\n",
       "    </tr>\n",
       "    <tr>\n",
       "      <th>education_level</th>\n",
       "      <td>[4]</td>\n",
       "      <td>[4]</td>\n",
       "    </tr>\n",
       "    <tr>\n",
       "      <th>elite</th>\n",
       "      <td>[True]</td>\n",
       "      <td>[True]</td>\n",
       "    </tr>\n",
       "    <tr>\n",
       "      <th>gender</th>\n",
       "      <td>2</td>\n",
       "      <td>2</td>\n",
       "    </tr>\n",
       "    <tr>\n",
       "      <th>id</th>\n",
       "      <td>af64be1e-9816-3ab4-9c34-775c00cafa5e</td>\n",
       "      <td>e1545d21-8451-36a3-8c6c-e127d209c670</td>\n",
       "    </tr>\n",
       "    <tr>\n",
       "      <th>job_length</th>\n",
       "      <td>[851, 577, 365, 122, 92, ongoing, ongoing]</td>\n",
       "      <td>[61, 640, ongoing, ongoing]</td>\n",
       "    </tr>\n",
       "    <tr>\n",
       "      <th>job_start_end</th>\n",
       "      <td>[(2012-01-01, 2014-05-01), (2012-10-01, 2014-05-01), (2013-05-01, 2014-05-01), (2013-09-01, 2014-01-01), (2014-05-01, 2014-08-01), (2015-08-01, 2019-03-01), (2015-10-01, 2019-03-01)]</td>\n",
       "      <td>[(2013-06-01, 2013-08-01), (2015-07-01, 2017-04-01), (2018-01-01, 2019-03-01), (2018-02-01, 2019-03-01)]</td>\n",
       "    </tr>\n",
       "    <tr>\n",
       "      <th>job_title</th>\n",
       "      <td>[Residential Computing Consultant,consultant, VP of Training &amp; Development Project Manager Founder,vice president, Software Engineering Intern,software,engineering,intern, Software Engineer,software engineer, Software Development Engineer Intern,development engineer,software,intern, Software Engineer,software engineer, Software Engineer,software engineer]</td>\n",
       "      <td>[Intern,intern, Software Engineer,software engineer, Software Engineer,software engineer, Software Engineer,software engineer]</td>\n",
       "    </tr>\n",
       "    <tr>\n",
       "      <th>skillset1</th>\n",
       "      <td>Web Development</td>\n",
       "      <td>Web Development</td>\n",
       "    </tr>\n",
       "    <tr>\n",
       "      <th>skillset2</th>\n",
       "      <td>Software Engineering</td>\n",
       "      <td>Software Engineering</td>\n",
       "    </tr>\n",
       "  </tbody>\n",
       "</table>\n",
       "</div>"
      ],
      "text/plain": [
       "                                                                                                                                                                                                                                                                                                                                                  af64be1e-9816-3ab4-9c34-775c00cafa5e  \\\n",
       "company          [Residential Computing, UC Berkeley, Code the Change, LinkedIn, Bay Area Mountain Rescue Unit, Microsoft - Xbox, Facebook, Instagram]                                                                                                                                                                                                                                   \n",
       "education        [UC Berkeley]                                                                                                                                                                                                                                                                                                                                                           \n",
       "education_level  [4]                                                                                                                                                                                                                                                                                                                                                                     \n",
       "elite            [True]                                                                                                                                                                                                                                                                                                                                                                  \n",
       "gender           2                                                                                                                                                                                                                                                                                                                                                                       \n",
       "id               af64be1e-9816-3ab4-9c34-775c00cafa5e                                                                                                                                                                                                                                                                                                                                    \n",
       "job_length       [851, 577, 365, 122, 92, ongoing, ongoing]                                                                                                                                                                                                                                                                                                                              \n",
       "job_start_end    [(2012-01-01, 2014-05-01), (2012-10-01, 2014-05-01), (2013-05-01, 2014-05-01), (2013-09-01, 2014-01-01), (2014-05-01, 2014-08-01), (2015-08-01, 2019-03-01), (2015-10-01, 2019-03-01)]                                                                                                                                                                                  \n",
       "job_title        [Residential Computing Consultant,consultant, VP of Training & Development Project Manager Founder,vice president, Software Engineering Intern,software,engineering,intern, Software Engineer,software engineer, Software Development Engineer Intern,development engineer,software,intern, Software Engineer,software engineer, Software Engineer,software engineer]   \n",
       "skillset1        Web Development                                                                                                                                                                                                                                                                                                                                                         \n",
       "skillset2        Software Engineering                                                                                                                                                                                                                                                                                                                                                    \n",
       "\n",
       "                                                                                                           e1545d21-8451-36a3-8c6c-e127d209c670  \n",
       "company          [Amazon Lab126, Wealthfront Inc., Facebook, Instagram]                                                                          \n",
       "education        [UC Berkeley]                                                                                                                   \n",
       "education_level  [4]                                                                                                                             \n",
       "elite            [True]                                                                                                                          \n",
       "gender           2                                                                                                                               \n",
       "id               e1545d21-8451-36a3-8c6c-e127d209c670                                                                                            \n",
       "job_length       [61, 640, ongoing, ongoing]                                                                                                     \n",
       "job_start_end    [(2013-06-01, 2013-08-01), (2015-07-01, 2017-04-01), (2018-01-01, 2019-03-01), (2018-02-01, 2019-03-01)]                        \n",
       "job_title        [Intern,intern, Software Engineer,software engineer, Software Engineer,software engineer, Software Engineer,software engineer]  \n",
       "skillset1        Web Development                                                                                                                 \n",
       "skillset2        Software Engineering                                                                                                            "
      ]
     },
     "execution_count": 10,
     "metadata": {},
     "output_type": "execute_result"
    }
   ],
   "source": [
    "compare_profiles('af64be1e-9816-3ab4-9c34-775c00cafa5e', 'e1545d21-8451-36a3-8c6c-e127d209c670')"
   ]
  },
  {
   "cell_type": "code",
   "execution_count": null,
   "metadata": {
    "collapsed": true
   },
   "outputs": [],
   "source": []
  }
 ],
 "metadata": {
  "kernelspec": {
   "display_name": "Python 3",
   "language": "python",
   "name": "python3"
  },
  "language_info": {
   "codemirror_mode": {
    "name": "ipython",
    "version": 3
   },
   "file_extension": ".py",
   "mimetype": "text/x-python",
   "name": "python",
   "nbconvert_exporter": "python",
   "pygments_lexer": "ipython3",
   "version": "3.6.1"
  }
 },
 "nbformat": 4,
 "nbformat_minor": 2
}
